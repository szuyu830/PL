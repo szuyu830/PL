{
 "cells": [
  {
   "cell_type": "code",
   "execution_count": 4,
   "metadata": {},
   "outputs": [
    {
     "name": "stdout",
     "output_type": "stream",
     "text": [
      "全台最常見名字第六名男生： 志豪\n",
      "花東地區最常見的女生姓名： 秀英\n",
      "北北基地區最常見的男生姓名： 家豪\n"
     ]
    }
   ],
   "source": [
    "import json\n",
    "\n",
    "# 讀取JSON檔案\n",
    "with open('names.json', 'r', encoding='utf-8') as f:\n",
    "    data = json.load(f)\n",
    "\n",
    "# 全台最常見名字第六名為?\n",
    "sixth_name = data[\"全台最常見名字\"][\"男生\"][5]\n",
    "\n",
    "# 花東地區最常見的女生姓名為?\n",
    "hua_dong_girl = data[\"不同地區最常見名字\"][\"花東地區\"][\"女生\"]\n",
    "\n",
    "# 北北基地區最常見的男生姓名為?\n",
    "bei_bei_ji_boy = data[\"不同地區最常見名字\"][\"北北基地區\"][\"男生\"]\n",
    "\n",
    "print(\"全台最常見名字第六名男生：\", sixth_name)\n",
    "print(\"花東地區最常見的女生姓名：\", hua_dong_girl)\n",
    "print(\"北北基地區最常見的男生姓名：\", bei_bei_ji_boy)\n",
    "\n",
    "\n"
   ]
  }
 ],
 "metadata": {
  "kernelspec": {
   "display_name": "Python 3",
   "language": "python",
   "name": "python3"
  },
  "language_info": {
   "codemirror_mode": {
    "name": "ipython",
    "version": 3
   },
   "file_extension": ".py",
   "mimetype": "text/x-python",
   "name": "python",
   "nbconvert_exporter": "python",
   "pygments_lexer": "ipython3",
   "version": "3.11.5"
  }
 },
 "nbformat": 4,
 "nbformat_minor": 2
}
